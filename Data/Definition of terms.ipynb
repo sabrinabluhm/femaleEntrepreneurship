{
 "cells": [
  {
   "cell_type": "markdown",
   "metadata": {},
   "source": [
    "# Definitions of the terms"
   ]
  },
  {
   "cell_type": "markdown",
   "metadata": {},
   "source": [
    "As part of the Women Entrepreneurs Finance Initiative (We-Fi), the Entrepreneurship database collects data on female entrepreneurial activity, from 2014 to 2018, focusing on the following three variables:\n",
    "\n",
    "- business owners: measures the individuals that own at least one share of a newly registered limited liabilty company in the calendar year\n",
    "- directors: measures the indviduals who conduct the affairs of new limited liability companies registered in the calendar year\n",
    "- sole proprietors: measures the individual that newly owns and manages a business entity and who is indistinguishable from the business and is personally liable in the calendar year."
   ]
  },
  {
   "cell_type": "markdown",
   "metadata": {},
   "source": [
    "Women, Business and the Law analyzes laws and regulations affecting women’s economic inclusion in 190 economies: \n",
    "\n",
    "- The Women, Business and the Law Index, composed by eight indicators structured around women’s interactions with the law as they begin, progress through and end their careers, aligns different areas of the law with the economic decisions women make at various stages of their lives."
   ]
  },
  {
   "cell_type": "code",
   "execution_count": null,
   "metadata": {},
   "outputs": [],
   "source": []
  }
 ],
 "metadata": {
  "kernelspec": {
   "display_name": "Python 3",
   "language": "python",
   "name": "python3"
  },
  "language_info": {
   "codemirror_mode": {
    "name": "ipython",
    "version": 3
   },
   "file_extension": ".py",
   "mimetype": "text/x-python",
   "name": "python",
   "nbconvert_exporter": "python",
   "pygments_lexer": "ipython3",
   "version": "3.7.6"
  }
 },
 "nbformat": 4,
 "nbformat_minor": 4
}
